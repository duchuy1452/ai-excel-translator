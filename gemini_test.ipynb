{
 "cells": [
  {
   "cell_type": "code",
   "execution_count": 1,
   "metadata": {},
   "outputs": [
    {
     "name": "stderr",
     "output_type": "stream",
     "text": [
      "2025-01-06 14:04:42,288 - INFO - GeminiTranslator initialized.\n"
     ]
    }
   ],
   "source": [
    "from translators import GeminiTranslator\n",
    "import os\n",
    "\n",
    "\n",
    "api_key = os.getenv(\"GEMINI_API_KEY\")\n",
    "translator = GeminiTranslator(api_key)"
   ]
  },
  {
   "cell_type": "code",
   "execution_count": 2,
   "metadata": {},
   "outputs": [],
   "source": [
    "texts =  ['プロジェクト名', '資料名', 'メインカテゴリ', 'サブカテゴリ', '画面名', '画面名：ワーカー管理', 'I', 'インデックス', 'I', 'インデックス', 'II', '概要', 'III', '詳細仕様', 'ワーカー一覧画面', 'II', '概要', '・本画面には、システム内のすべてのワーカーを一覧表示する。', '・本画面に遷移するには、左メニューの「ワーカー管理」テキストリンクを押下する。', 'III', '詳細仕様', 'ワーカー一覧画面', 'ロジック・ユースケース', '・本画面で次のことができる。', '・ワーカー一覧を確認し、ワーカーを検索する。', '・「ワーカー追加・編集」画面に遷移する（Admin、管理ユーザー向けの機能） ', '・ワーカー削除（Admin、管理ユーザー向けの機能） ', '・アクセス権限：全てのユーザーが本画面にアクセスできる。・一般ユーザーはデータを追加、変更、削除することはできまない。', '画面仕様', 'No', '項目名', 'タイプ', '必須', '最大長', '初期値', 'フォーマット', 'データベース', '説明', 'ヘッダー', '-', '-', '-', '-', '-', '「共通画面」シートの「1.ヘッダー」項目をご参照のこと。', '左メニュー', '-', '-', '-', '-', '-', '「共通画面」シートの「2.左メニュー」項目をご参照のこと。', 'パンくずリスト', '-', '-', '-', '-', '-', '「共通画面」シートの「3.パンくずリスト」項目をご参照のこと。', 'ワーカー管理 ', '-', '-', '-', '-', '-', '画面名を表示する。', 'ワーカー追加', 'ボタン', '-', '-', '-', '-', '「ワーカー追加」画面に遷移する。 ', '注意：ログイン中のユーザーが一般ユーザーの場合、本ボタンを非表示にする。', '検索', '氏名', 'テキストボックス', '-', '-', 'テキストボックスに入力した文字列と部分一致する氏名を持つワーカーを検索する（一覧表の「氏名（漢字）」および「氏名（カナ）」列の氏名）。 ', '業務名', 'ドロップダウンリスト', '-', '-', '-', '<更新中>', 'ドロップダウンで選択されている業務と一致する業務を持つワーカーを検索する。', 'ドロップダウンリストの値は有効期限が切れておらず、削除されていないすべての業務一覧である。', '検索', 'ボタン', '-', '-', '-', '-', '選択した検索条件に従って検索を行う。各条件の間はAND関係である。 ', '一覧表 ', '・システム内で削除されていないすべてのワーカーの一覧を表示する。', '・表示順：「社員番号」列の降順', '・「アクション」列は一覧表の左端に固定表示する。一覧表の列を全て閲覧するように、横スクロールバーを配置する。 ']\n"
   ]
  },
  {
   "cell_type": "code",
   "execution_count": 3,
   "metadata": {},
   "outputs": [
    {
     "name": "stderr",
     "output_type": "stream",
     "text": [
      "2025-01-06 14:04:42,304 - INFO - Sending translation request for 99 texts.\n",
      "2025-01-06 14:04:49,787 - INFO - Successfully translated 99 texts.\n"
     ]
    },
    {
     "data": {
      "text/plain": [
       "99"
      ]
     },
     "execution_count": 3,
     "metadata": {},
     "output_type": "execute_result"
    }
   ],
   "source": [
    "translated_texts = translator.translate_batch(texts, \"Vietnamese\")\n",
    "len(translated_texts)"
   ]
  },
  {
   "cell_type": "code",
   "execution_count": 4,
   "metadata": {},
   "outputs": [
    {
     "data": {
      "text/plain": [
       "105"
      ]
     },
     "execution_count": 4,
     "metadata": {},
     "output_type": "execute_result"
    }
   ],
   "source": [
    "t2 = ['Tên dự án', 'Công cụ quản lý thông báo thanh toán ủy thác_やさしい手様', 'Tên tài liệu', 'Thông số kỹ thuật phần mềm', 'Danh mục chính', 'Quản lý người lao động', 'Danh mục phụ', 'Tên màn hình', 'Chi tiết người lao động・Chỉnh sửa', 'Tên màn hình: Chi tiết người lao động / Chỉnh sửa người lao động', 'I', 'Chỉ mục', 'I', 'Chỉ mục', 'II', 'Tổng quan', 'III', 'Thông số chi tiết', 'Màn hình “Chi tiết người lao động” / “Chỉnh sửa người lao động”', 'II', 'Tổng quan', '・Màn hình này cho phép xác nhận chi tiết người lao động và thêm / chỉnh sửa người lao động.', '・Để chuyển đến màn hình “Chi tiết người lao động”, hãy nhấn nút chi tiết trên màn hình “Quản lý người lao động”.', '・Để chuyển đến màn hình “Thêm người lao động”, hãy nhấn nút “Thêm người lao động” trên màn hình “Quản lý người lao động”.', '・Để chuyển đến màn hình “Chi tiết người lao động”, hãy nhấn nút chỉnh sửa trên màn hình “Quản lý người lao động”.', 'III', 'Thông số chi tiết', 'Màn hình “Chi tiết người lao động” / “Thêm・Chỉnh sửa người lao động”', 'Logic・Trường hợp sử dụng', '・Trên màn hình “Chi tiết người lao động”, bạn có thể thực hiện các thao tác sau:', '・Xác nhận thông tin chi tiết của người lao động.', '・Chuyển đến màn hình “Chỉnh sửa người lao động”. (Chỉ dành cho người dùng có quyền. Vui lòng tham khảo bảng “Ma trận vai trò”.) ', '・Thêm người lao động trên màn hình “Thêm người lao động”.', '・Chỉnh sửa thông tin người lao động trên màn hình “Chỉnh sửa người lao động”.', '・Cài đặt quyền: Vui lòng tham khảo bảng “Ma trận vai trò”.', 'Thông số màn hình', 'Số', 'Tên mục', 'Kiểu', 'Bắt buộc', 'Độ dài tối đa', 'Giá trị ban đầu', 'Định dạng', 'Cơ sở dữ liệu', 'Mô tả', 'Tiêu đề', '–', '–', '–', '–', '–', '–', '–', 'Vui lòng tham khảo mục “1. Tiêu đề” trên bảng “Màn hình chung”.', 'Menu bên trái', '–', '–', '–', '–', '–', '–', '–', 'Vui lòng tham khảo mục “2. Menu bên trái” trên bảng “Màn hình chung”.', 'Danh sách đường dẫn', '–', '–', '–', '–', '–', '–', '–', 'Vui lòng tham khảo mục “3. Danh sách đường dẫn” trên bảng “Màn hình chung”.', 'Tên màn hình', 'Văn bản', '–', '–', '–', '–', '–', '–', 'Trong trường hợp màn hình “Chi tiết người lao động”, hiển thị văn bản “Chi tiết người lao động”.', 'Trong trường hợp màn hình “Thêm người lao động”, hiển thị văn bản “Thêm người lao động”.', 'Trong trường hợp màn hình “Chỉnh sửa người lao động”, hiển thị văn bản “Chỉnh sửa người lao động”.', 'Nút của màn hình “Chi tiết người lao động”', '※Nút được cố định và sẽ di chuyển ngay cả khi cuộn.', 'Quay lại', 'Nút', '–', '–', '–', '–', '–', '–', 'Quay lại màn hình “Quản lý người lao động”.', 'Chỉnh sửa', 'Nút', '–', '–', '–', '–', '–', '–', 'Chuyển đến màn hình “Chỉnh sửa người lao động”.', 'Lưu ý: Nút này chỉ hiển thị đối với người dùng có quyền thêm người lao động (Vui lòng tham khảo bảng “Ma trận vai trò”).', 'Nút của màn hình “Thêm・Chỉnh sửa người lao động”]']\n",
    "len(t2)"
   ]
  },
  {
   "cell_type": "code",
   "execution_count": 5,
   "metadata": {},
   "outputs": [
    {
     "data": {
      "text/plain": [
       "99"
      ]
     },
     "execution_count": 5,
     "metadata": {},
     "output_type": "execute_result"
    }
   ],
   "source": [
    "len( ['プロジェクト名', 'やさしい手様_業務委託支払通知管理ツール', '資料名', 'ソフトウェア要件仕様書', 'メインカテゴリ', 'ワーカー管理', 'サブカテゴリ', '画面名', 'ワーカー詳細・編集', '画面名：ワーカー詳細 / ワーカー編集', 'I', 'インデックス', 'I', 'インデックス', 'II', '概要', 'III', '詳細仕様', '「ワーカー詳細」 / 「ワーカー編集」画面', 'II', '概要', '・本画面には、ワーカーの詳細を確認し、ワーカーの追加・編集することができる。', '・「ワーカー詳細」画面に遷移するには、「ワーカー管理」画面で詳細ボタンを押下する。', '・「ワーカー追加」画面に遷移するには、「ワーカー管理」画面で「ワーカー追加」ボタンを押下する。', '・「ワーカー詳細」画面に遷移するには、「ワーカー管理」画面で編集ボタンを押下する。', 'III', '詳細仕様', '「ワーカー詳細」 / 「ワーカー追加・編集」画面', 'ロジック・ユースケース', '・「ワーカー詳細」画面では、次のことができる。', '・ワーカーの詳細情報を確認する。', '・「ワーカー編集」画面に遷移する。（権限のあるユーザーのみ。「ロールマトリックス」シートをご参照のこと。） ', '・「ワーカー追加」画面でワーカーを追加する。', '・「ワーカー編集」画面でワーカーの情報を編集する。', '・権限設定：「ロールマトリックス」シートをご参照のこと。', '画面仕様', 'No', '項目名', 'タイプ', '必須', '最大長', '初期値', 'フォーマット', 'データベース', '説明', 'ヘッダー', '-', '-', '-', '-', '-', '-', '「共通画面」シートの「1.ヘッダー」項目をご参照のこと。', '左メニュー', '-', '-', '-', '-', '-', '-', '「共通画面」シートの「2.左メニュー」項目をご参照のこと。', 'パンくずリスト', '-', '-', '-', '-', '-', '-', '「共通画面」シートの「3.パンくずリスト」項目をご参照のこと。', '画面名', 'テキスト', '-', '-', '-', '-', '-', '「ワーカー詳細」画面の場合、「ワーカー詳細」テキストを表示する。', '「ワーカー追加」画面の場合、「ワーカー追加」テキストを表示する。', '「ワーカー編集」画面の場合、「ワーカー編集」テキストを表示する。', '「ワーカー詳細」画面のボタン', '※ボタンは固定されており、スクロールしても移動する。', '戻る', 'ボタン', '-', '-', '-', '-', '-', '「ワーカー管理」画面に戻る。', '編集', 'ボタン', '-', '-', '-', '-', '-', '「ワーカー編集」画面に遷移する。', '注意：本ボタンはワーカー追加権限を持つユーザーにのみ表示する（「ロールマトリックス」シートをご参照のこと）。', '「ワーカー追加・編集」画面のボタン'])"
   ]
  },
  {
   "cell_type": "code",
   "execution_count": null,
   "metadata": {},
   "outputs": [],
   "source": []
  }
 ],
 "metadata": {
  "kernelspec": {
   "display_name": "base",
   "language": "python",
   "name": "python3"
  },
  "language_info": {
   "codemirror_mode": {
    "name": "ipython",
    "version": 3
   },
   "file_extension": ".py",
   "mimetype": "text/x-python",
   "name": "python",
   "nbconvert_exporter": "python",
   "pygments_lexer": "ipython3",
   "version": "3.12.4"
  }
 },
 "nbformat": 4,
 "nbformat_minor": 2
}
